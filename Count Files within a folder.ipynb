{
 "cells": [
  {
   "cell_type": "code",
   "execution_count": 2,
   "metadata": {},
   "outputs": [],
   "source": [
    "from PIL import Image\n",
    "import os\n",
    "from pathlib import Path\n",
    "import shutil\n",
    "from shutil import move"
   ]
  },
  {
   "cell_type": "code",
   "execution_count": 19,
   "metadata": {},
   "outputs": [
    {
     "data": {
      "text/plain": [
       "WindowsPath('C:/GPhoto')"
      ]
     },
     "execution_count": 19,
     "metadata": {},
     "output_type": "execute_result"
    }
   ],
   "source": [
    "current_wd = Path.cwd()\n",
    "current_wd"
   ]
  },
  {
   "cell_type": "markdown",
   "metadata": {},
   "source": [
    "##### 1 Layer Folder\n",
    "/Folder_Layer_1/file.txt"
   ]
  },
  {
   "cell_type": "code",
   "execution_count": 69,
   "metadata": {},
   "outputs": [],
   "source": [
    "# Rename Folder name here\n",
    "Folder = \"Separated_Folder\""
   ]
  },
  {
   "cell_type": "code",
   "execution_count": 70,
   "metadata": {},
   "outputs": [],
   "source": [
    "folder_name = os.path.join(current_wd, Folder)"
   ]
  },
  {
   "cell_type": "code",
   "execution_count": 71,
   "metadata": {},
   "outputs": [],
   "source": [
    "with open(\"output_count.txt\", \"a\") as f:\n",
    "    total_jpg = 0\n",
    "    total_heic = 0\n",
    "    total_mp4 = 0\n",
    "    total_mov = 0\n",
    "    total_json = 0\n",
    "    total_other = 0\n",
    "    total_png = 0\n",
    "    \n",
    "    for i in os.listdir(folder_name):\n",
    "        if str.lower(i[-4:]) == '.jpg':\n",
    "            total_jpg += 1 \n",
    "        elif str.lower(i[-4:]) == '.png':\n",
    "            total_png += 1 \n",
    "        elif str.lower(i[-5:]) == '.json':\n",
    "            total_json += 1\n",
    "        elif str.lower(i[-4:]) == '.mp4':\n",
    "            total_mp4 += 1\n",
    "        elif str.lower(i[-5:]) == '.heic':\n",
    "            total_heic += 1\n",
    "        elif str.lower(i[-4:]) == '.mov':\n",
    "            total_mov += 1 \n",
    "        else: \n",
    "            total_other += 1\n",
    "    print(\"Total JPG Count: \" + str(total_jpg), file=f)\n",
    "    print(\"Total PNG Count: \" + str(total_png), file=f)\n",
    "    print(\"Total HEIC Count: \" + str(total_heic), file=f)  \n",
    "    print(\"Total MP4 Count: \" + str(total_mp4), file=f)                    \n",
    "    print(\"Total MOV Count: \" + str(total_mov), file=f)    \n",
    "    print(\"Total JSON Count: \" + str(total_json), file=f)\n",
    "    print(\"Total OTHER Count: \" + str(total_other), file=f)"
   ]
  },
  {
   "cell_type": "code",
   "execution_count": null,
   "metadata": {},
   "outputs": [],
   "source": []
  }
 ],
 "metadata": {
  "kernelspec": {
   "display_name": "Python 3",
   "language": "python",
   "name": "python3"
  },
  "language_info": {
   "codemirror_mode": {
    "name": "ipython",
    "version": 3
   },
   "file_extension": ".py",
   "mimetype": "text/x-python",
   "name": "python",
   "nbconvert_exporter": "python",
   "pygments_lexer": "ipython3",
   "version": "3.8.3"
  }
 },
 "nbformat": 4,
 "nbformat_minor": 4
}
