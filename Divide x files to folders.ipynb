{
 "cells": [
  {
   "cell_type": "code",
   "execution_count": 2,
   "metadata": {},
   "outputs": [],
   "source": [
    "from PIL import Image\n",
    "import os\n",
    "from pathlib import Path\n",
    "import shutil\n",
    "from shutil import move\n",
    "# import pyheif"
   ]
  },
  {
   "cell_type": "markdown",
   "metadata": {},
   "source": [
    "##### Divide x files to folders"
   ]
  },
  {
   "cell_type": "code",
   "execution_count": 76,
   "metadata": {},
   "outputs": [],
   "source": [
    "# Source Folder Name\n",
    "src_folder_name =  \"jpg_folder\"\n",
    "\n",
    "# Destination Folder Name\n",
    "dest_folder_name = 'jpg_split'\n",
    "\n",
    "# How many files you want in a folder\n",
    "x_files_count = 5000"
   ]
  },
  {
   "cell_type": "code",
   "execution_count": 77,
   "metadata": {
    "scrolled": true
   },
   "outputs": [
    {
     "name": "stdout",
     "output_type": "stream",
     "text": [
      "Done!\n"
     ]
    }
   ],
   "source": [
    "\n",
    "src_folder = os.path.join(current_wd, src_folder_name)\n",
    "split_folder = os.path.join(current_wd, dest_folder_name+\"_\"+str(folder_count).zfill(2))\n",
    "\n",
    "file_count = 0\n",
    "folder_count = 1\n",
    "split_folder = os.path.join(current_wd, \"jpg_split\"+\"_\"+str(folder_count).zfill(2))\n",
    "if not os.path.exists(split_folder): #Initialize Split Folder \n",
    "    os.makedirs(split_folder)\n",
    "    \n",
    "for i in os.listdir(src_folder): #For every file in the folder\n",
    "    if i != '.DS_Store':\n",
    "        if file_count < x_files_count: #If file_count < x, move\n",
    "            shutil.move(os.path.join(src_folder, i), os.path.join(split_folder,i))\n",
    "            file_count += 1\n",
    "        else: #If hit threshold, reset file_count, add folder_count, create new folder name, move file to new folder, file count+1\n",
    "            file_count = 0\n",
    "            folder_count += 1\n",
    "            split_folder = os.path.join(current_wd, \"jpg_split\"+\"_\"+str(folder_count).zfill(2))\n",
    "            if not os.path.exists(split_folder):\n",
    "                os.makedirs(split_folder)\n",
    "            shutil.move(os.path.join(src_folder, i), os.path.join(split_folder,i))\n",
    "            file_count += 1\n",
    "print(\"Done!\")"
   ]
  }
 ],
 "metadata": {
  "kernelspec": {
   "display_name": "Python 3",
   "language": "python",
   "name": "python3"
  },
  "language_info": {
   "codemirror_mode": {
    "name": "ipython",
    "version": 3
   },
   "file_extension": ".py",
   "mimetype": "text/x-python",
   "name": "python",
   "nbconvert_exporter": "python",
   "pygments_lexer": "ipython3",
   "version": "3.8.3"
  }
 },
 "nbformat": 4,
 "nbformat_minor": 4
}
