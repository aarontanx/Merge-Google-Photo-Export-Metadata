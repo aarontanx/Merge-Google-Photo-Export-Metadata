{
 "cells": [
  {
   "cell_type": "code",
   "execution_count": 1,
   "metadata": {},
   "outputs": [],
   "source": [
    "from PIL import Image\n",
    "import os\n",
    "from pathlib import Path\n",
    "import shutil\n",
    "from shutil import move"
   ]
  },
  {
   "cell_type": "code",
   "execution_count": 4,
   "metadata": {},
   "outputs": [],
   "source": [
    "# Source Folder Name\n",
    "src_folder_name =  \"jpg_split_04\"\n",
    "\n",
    "# Destination Folder Name\n",
    "dest_folder_name = 'temp_folder'"
   ]
  },
  {
   "cell_type": "markdown",
   "metadata": {},
   "source": [
    "C:\\GPhoto\\Separated_Folder\\jpg_split_04"
   ]
  },
  {
   "cell_type": "code",
   "execution_count": 5,
   "metadata": {},
   "outputs": [],
   "source": [
    "current_wd = Path.cwd()\n",
    "parent_path = Path(current_wd).parent\n",
    "src_folder = os.path.join(current_wd, \"Separated_Folder\", src_folder_name)\n",
    "dest_folder = os.path.join(current_wd,\"Separated_Folder\", dest_folder_name)"
   ]
  },
  {
   "cell_type": "code",
   "execution_count": 7,
   "metadata": {},
   "outputs": [
    {
     "name": "stdout",
     "output_type": "stream",
     "text": [
      "DONE Count: 475\n"
     ]
    }
   ],
   "source": [
    "file_count = 0\n",
    "for i in os.listdir(src_folder): #First Level Folder - Find Each Folder\n",
    "    if str.lower(i[-5:]) == ').jpg':\n",
    "        shutil.move(os.path.join(src_folder, i), os.path.join(dest_folder, i))\n",
    "        file_count += 1\n",
    "print('DONE Count:', file_count)\n",
    "        "
   ]
  },
  {
   "cell_type": "code",
   "execution_count": 19,
   "metadata": {
    "scrolled": true
   },
   "outputs": [],
   "source": [
    "for i in os.listdir(dest_folder):\n",
    "    shutil.move(os.path.join(dest_folder, i), os.path.join(dest_folder, i[:-7]+str('.jpg')))"
   ]
  },
  {
   "cell_type": "code",
   "execution_count": 15,
   "metadata": {},
   "outputs": [
    {
     "data": {
      "text/plain": [
       "'C:\\\\GPhoto\\\\Separated_Folder\\\\temp_folder\\\\15056_Snapseed.jpg'"
      ]
     },
     "execution_count": 15,
     "metadata": {},
     "output_type": "execute_result"
    }
   ],
   "source": [
    "os.path.join(dest_folder, i[:-7]+str('.jpg'))"
   ]
  },
  {
   "cell_type": "code",
   "execution_count": 18,
   "metadata": {},
   "outputs": [
    {
     "ename": "SyntaxError",
     "evalue": "unexpected EOF while parsing (<ipython-input-18-0ced5482eb94>, line 1)",
     "output_type": "error",
     "traceback": [
      "\u001b[1;36m  File \u001b[1;32m\"<ipython-input-18-0ced5482eb94>\"\u001b[1;36m, line \u001b[1;32m1\u001b[0m\n\u001b[1;33m    os.path.join(dest_folder, i[:-7]+str('.jpg')\u001b[0m\n\u001b[1;37m                                                ^\u001b[0m\n\u001b[1;31mSyntaxError\u001b[0m\u001b[1;31m:\u001b[0m unexpected EOF while parsing\n"
     ]
    }
   ],
   "source": [
    "os.path.join(dest_folder, i[:-7]+str('.jpg')"
   ]
  },
  {
   "cell_type": "code",
   "execution_count": null,
   "metadata": {},
   "outputs": [],
   "source": []
  }
 ],
 "metadata": {
  "kernelspec": {
   "display_name": "Python 3",
   "language": "python",
   "name": "python3"
  },
  "language_info": {
   "codemirror_mode": {
    "name": "ipython",
    "version": 3
   },
   "file_extension": ".py",
   "mimetype": "text/x-python",
   "name": "python",
   "nbconvert_exporter": "python",
   "pygments_lexer": "ipython3",
   "version": "3.8.3"
  }
 },
 "nbformat": 4,
 "nbformat_minor": 4
}
