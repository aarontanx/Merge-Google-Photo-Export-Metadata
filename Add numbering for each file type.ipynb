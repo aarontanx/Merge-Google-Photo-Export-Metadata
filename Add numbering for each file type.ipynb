{
 "cells": [
  {
   "cell_type": "code",
   "execution_count": null,
   "metadata": {},
   "outputs": [],
   "source": [
    "from PIL import Image\n",
    "import os\n",
    "from pathlib import Path\n",
    "import shutil\n",
    "from shutil import move"
   ]
  },
  {
   "cell_type": "code",
   "execution_count": null,
   "metadata": {},
   "outputs": [],
   "source": [
    "with open(\"output_move.txt\", \"a\") as f:\n",
    "    jpg_counter = 1\n",
    "    mov_counter = 1\n",
    "    mp4_counter = 1\n",
    "    other_counter = 1\n",
    "    heic_counter = 1\n",
    "    gif_counter = 1\n",
    "\n",
    "    for j in folder_to_check: #First Level Folder - Find Each Folder\n",
    "        for i in os.listdir(j): #Second Level Folder - Find Each File\n",
    "            if str.lower(i[-4:]) == '.jpg':\n",
    "                shutil.move(os.path.join(j, i), os.path.join(combined_folder, str(jpg_counter).zfill(5)+\"_\"+i[:-4]+\".JPG\"))\n",
    "                jpg_counter += 1\n",
    "            elif str.lower(i[-5:]) == '.jpeg':\n",
    "                shutil.move(os.path.join(j, i), os.path.join(combined_folder, str(jpg_counter).zfill(5)+\"_\"+i[:-5]+\".JPG\"))\n",
    "                jpg_counter += 1\n",
    "            elif str.lower(i[-4:]) == '.mp4':\n",
    "                shutil.move(os.path.join(j, i), os.path.join(combined_folder, str(mp4_counter).zfill(5)+\"_\"+i[:-4]+\".mp4\"))\n",
    "                mp4_counter += 1\n",
    "            elif str.lower(i[-4:]) == '.mov':\n",
    "                shutil.move(os.path.join(j, i), os.path.join(combined_folder, str(mov_counter).zfill(5)+\"_\"+i[:-4]+\".mov\"))\n",
    "                mov_counter += 1\n",
    "            elif str.lower(i[-5:]) == '.heic':\n",
    "                shutil.move(os.path.join(j, i), os.path.join(combined_folder, str(heic_counter).zfill(5)+\"_\"+i[:-5]+\".HEIC\"))\n",
    "                heic_counter += 1\n",
    "            elif str.lower(i[-4:]) == '.gif':\n",
    "                shutil.move(os.path.join(j, i), os.path.join(combined_folder, str(gif_counter).zfill(5)+\"_\"+i[:-4]+\".gif\"))\n",
    "                gif_counter += 1\n",
    "            else:\n",
    "                shutil.move(os.path.join(j, i), os.path.join(combined_folder, str(other_counter).zfill(5)+\"_\"+i+\".other\"))\n",
    "                other_counter += 1\n",
    "\n",
    "    print(\"\\n\", file=f)\n",
    "    print(\"JPG Count: \"+str(jpg_counter-1), file=f)\n",
    "    print(\"MOV Count: \"+str(mov_counter-1), file=f)\n",
    "    print(\"MP4 Count: \"+str(mp4_counter-1), file=f)\n",
    "    print(\"HEIC Count: \"+str(heic_counter-1), file=f)\n",
    "    print(\"GIF Count: \"+str(gif_counter-1), file=f)\n",
    "    print(\"Other Count: \"+str(other_counter-1), file=f)"
   ]
  },
  {
   "cell_type": "code",
   "execution_count": null,
   "metadata": {},
   "outputs": [],
   "source": []
  }
 ],
 "metadata": {
  "kernelspec": {
   "display_name": "Python 3",
   "language": "python",
   "name": "python3"
  },
  "language_info": {
   "codemirror_mode": {
    "name": "ipython",
    "version": 3
   },
   "file_extension": ".py",
   "mimetype": "text/x-python",
   "name": "python",
   "nbconvert_exporter": "python",
   "pygments_lexer": "ipython3",
   "version": "3.8.3"
  }
 },
 "nbformat": 4,
 "nbformat_minor": 4
}
